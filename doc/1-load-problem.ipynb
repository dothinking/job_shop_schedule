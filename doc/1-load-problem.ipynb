{
 "cells": [
  {
   "cell_type": "markdown",
   "metadata": {},
   "source": [
    "# Create Problem\n",
    "\n",
    "Load/create problem in 4 ways: benchmark name, formatted file, random number, created operations."
   ]
  },
  {
   "cell_type": "code",
   "execution_count": 3,
   "metadata": {},
   "outputs": [],
   "source": [
    "from jsp import JSProblem\n",
    "\n",
    "def print_problem_info(p:JSProblem):\n",
    "    '''Print problem information.'''\n",
    "    # number of jobs, machines and operations\n",
    "    print('jobs:', len(p.jobs))\n",
    "    print('machines:', len(p.machines))\n",
    "    print('operations:', len(p.ops))\n",
    "\n",
    "    # operation\n",
    "    for op in p.ops[:7]:\n",
    "        print('job=', op.job.id, 'machine=', op.machine.id, 'duration=', op.duration)"
   ]
  },
  {
   "cell_type": "code",
   "execution_count": 24,
   "metadata": {},
   "outputs": [
    {
     "name": "stdout",
     "output_type": "stream",
     "text": [
      "jobs: 6\n",
      "machines: 6\n",
      "operations: 36\n",
      "job= 0 machine= 2 duration= 1\n",
      "job= 0 machine= 0 duration= 3\n",
      "job= 0 machine= 1 duration= 6\n",
      "job= 0 machine= 3 duration= 7\n",
      "job= 0 machine= 5 duration= 3\n",
      "job= 0 machine= 4 duration= 6\n",
      "job= 1 machine= 1 duration= 8\n"
     ]
    }
   ],
   "source": [
    "# ----------------------------------------------\n",
    "# 1. load problem from benchmark instance name\n",
    "# ----------------------------------------------\n",
    "# https://github.com/caffeine-free/jsp\n",
    "\n",
    "p = JSProblem(benchmark='ft06')\n",
    "print_problem_info(p)"
   ]
  },
  {
   "cell_type": "code",
   "execution_count": 25,
   "metadata": {},
   "outputs": [
    {
     "name": "stdout",
     "output_type": "stream",
     "text": [
      "jobs: 20\n",
      "machines: 5\n",
      "operations: 100\n",
      "job= 0 machine= 0 duration= 54\n",
      "job= 0 machine= 1 duration= 79\n",
      "job= 0 machine= 2 duration= 16\n",
      "job= 0 machine= 3 duration= 66\n",
      "job= 0 machine= 4 duration= 58\n",
      "job= 1 machine= 0 duration= 83\n",
      "job= 1 machine= 1 duration= 3\n"
     ]
    }
   ],
   "source": [
    "# ----------------------------------------------\n",
    "# 2. load problem from text file\n",
    "# ----------------------------------------------\n",
    "# problem file format:\n",
    "# num_jobs num_machines\n",
    "# job1_op1 job1_op1_process_time job1_op2 job1_op2_process_time ...\n",
    "# job2_op1 job2_op1_process_time job2_op2 job2_op2_process_time ...\n",
    "# job3_op1 job3_op1_process_time job3_op2 job3_op2_process_time ...\n",
    "# ...\n",
    "# 20 5\n",
    "# 0 54 1 79 2 16 3 66 4 58\n",
    "# 0 83 1 3 2 89 3 58 4 56\n",
    "# 0 15 1 11 2 49 3 31 4 20\n",
    "# ...\n",
    "p = JSProblem(input_file='problem.txt')\n",
    "print_problem_info(p)"
   ]
  },
  {
   "cell_type": "code",
   "execution_count": 26,
   "metadata": {},
   "outputs": [
    {
     "name": "stdout",
     "output_type": "stream",
     "text": [
      "jobs: 5\n",
      "machines: 3\n",
      "operations: 15\n",
      "job= 0 machine= 2 duration= 34\n",
      "job= 0 machine= 0 duration= 20\n",
      "job= 0 machine= 1 duration= 45\n",
      "job= 1 machine= 0 duration= 33\n",
      "job= 1 machine= 2 duration= 18\n",
      "job= 1 machine= 1 duration= 11\n",
      "job= 2 machine= 1 duration= 19\n"
     ]
    }
   ],
   "source": [
    "# --------------------------------------------------------\n",
    "# 3. create problem with specified jobs and machines\n",
    "# --------------------------------------------------------\n",
    "p = JSProblem(num_jobs=5, num_machines=3)\n",
    "print_problem_info(p)"
   ]
  },
  {
   "cell_type": "code",
   "execution_count": 27,
   "metadata": {},
   "outputs": [
    {
     "name": "stdout",
     "output_type": "stream",
     "text": [
      "jobs: 3\n",
      "machines: 5\n",
      "operations: 15\n",
      "job= 0 machine= 0 duration= 10.0\n",
      "job= 0 machine= 1 duration= 10.0\n",
      "job= 0 machine= 2 duration= 10.0\n",
      "job= 0 machine= 3 duration= 10.0\n",
      "job= 0 machine= 4 duration= 10.0\n",
      "job= 1 machine= 0 duration= 10.0\n",
      "job= 1 machine= 1 duration= 10.0\n"
     ]
    }
   ],
   "source": [
    "# ----------------------------------------------\n",
    "# 4. create problem from operations\n",
    "# ----------------------------------------------\n",
    "from jsp.model.domain import (Job, Machine, Operation)\n",
    "\n",
    "jobs = [Job(i) for i in range(3)]\n",
    "machines = [Machine(i) for i in range(5)]\n",
    "\n",
    "ops = []\n",
    "for job in jobs:\n",
    "    for machine in machines:\n",
    "        ops.append(Operation(job=job, machine=machine, duration=10.0))\n",
    "\n",
    "p = JSProblem(ops=ops)\n",
    "\n",
    "print_problem_info(p)"
   ]
  }
 ],
 "metadata": {
  "kernelspec": {
   "display_name": "Python 3",
   "language": "python",
   "name": "python3"
  },
  "language_info": {
   "codemirror_mode": {
    "name": "ipython",
    "version": 3
   },
   "file_extension": ".py",
   "mimetype": "text/x-python",
   "name": "python",
   "nbconvert_exporter": "python",
   "pygments_lexer": "ipython3",
   "version": "3.8.10"
  }
 },
 "nbformat": 4,
 "nbformat_minor": 2
}
