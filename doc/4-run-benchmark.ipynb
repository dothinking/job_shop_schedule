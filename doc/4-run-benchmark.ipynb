{
 "cells": [
  {
   "cell_type": "markdown",
   "metadata": {},
   "source": [
    "# Run Benchmark"
   ]
  },
  {
   "cell_type": "code",
   "execution_count": 1,
   "metadata": {},
   "outputs": [
    {
     "name": "stderr",
     "output_type": "stream",
     "text": [
      "[2024-03-29 22:24:24 Runner_0] Start solving \"ft06\" with \"PriorityDispatchSolver\"...\n",
      "[2024-03-29 22:24:24 Runner_1] Start solving \"ft06\" with \"pulp\"...\n",
      "[2024-03-29 22:24:24 Runner_2] Start solving \"la01\" with \"PriorityDispatchSolver\"...\n",
      "[2024-03-29 22:24:24 Runner_0] Successfully to solve \"ft06\" with \"PriorityDispatchSolver\" in 0.000000 sec.\n",
      "[2024-03-29 22:24:24 Runner_3] Start solving \"la01\" with \"pulp\"...\n",
      "[2024-03-29 22:24:24 Runner_2] Successfully to solve \"la01\" with \"PriorityDispatchSolver\" in 0.000000 sec.\n",
      "[2024-03-29 22:24:24 Runner_4] Start solving \"ft10\" with \"PriorityDispatchSolver\"...\n",
      "[2024-03-29 22:24:24 Runner_5] Start solving \"ft10\" with \"pulp\"...\n",
      "[2024-03-29 22:24:24 Runner_0] Start solving \"swv01\" with \"PriorityDispatchSolver\"...\n",
      "[2024-03-29 22:24:24 Runner_2] Start solving \"swv01\" with \"pulp\"...\n",
      "[2024-03-29 22:24:24 Runner_4] Successfully to solve \"ft10\" with \"PriorityDispatchSolver\" in 0.000000 sec.\n",
      "[2024-03-29 22:24:24 Runner_0] Successfully to solve \"swv01\" with \"PriorityDispatchSolver\" in 0.100000 sec.\n",
      "[2024-03-29 22:24:24 Runner_4] Start solving \"la38\" with \"PriorityDispatchSolver\"...\n",
      "[2024-03-29 22:24:24 Runner_0] Start solving \"la38\" with \"pulp\"...\n",
      "[2024-03-29 22:24:24 Runner_4] Successfully to solve \"la38\" with \"PriorityDispatchSolver\" in 0.200000 sec.\n",
      "[2024-03-29 22:24:31 Runner_1] Successfully to solve \"ft06\" with \"pulp\" in 7.600000 sec.\n",
      "[2024-03-29 22:26:16 Runner_3] Successfully to solve \"la01\" with \"pulp\" in 112.100000 sec.\n",
      "Traceback (most recent call last):\n",
      "  File \"d:\\21_github\\jsp-framework\\jsp\\model\\solver.py\", line 146, in __solving_thread\n",
      "    self.do_solve(problem=problem)\n",
      "  File \"d:\\21_github\\jsp-framework\\jsp\\solver\\pulp.py\", line 55, in do_solve\n",
      "    raise JSPException('No feasible solution found.')\n",
      "jsp.common.exception.JSPException: No feasible solution found.\n",
      "[2024-03-29 22:29:29 Runner_2] Failed to solve \"swv01\" with \"pulp\" in 304.900000 sec.\n",
      "Traceback (most recent call last):\n",
      "  File \"d:\\21_github\\jsp-framework\\jsp\\model\\solver.py\", line 146, in __solving_thread\n",
      "    self.do_solve(problem=problem)\n",
      "  File \"d:\\21_github\\jsp-framework\\jsp\\solver\\pulp.py\", line 55, in do_solve\n",
      "    raise JSPException('No feasible solution found.')\n",
      "jsp.common.exception.JSPException: No feasible solution found.\n",
      "[2024-03-29 22:29:29 Runner_0] Failed to solve \"la38\" with \"pulp\" in 304.800000 sec.\n",
      "Traceback (most recent call last):\n",
      "  File \"d:\\21_github\\jsp-framework\\jsp\\model\\solver.py\", line 146, in __solving_thread\n",
      "    self.do_solve(problem=problem)\n",
      "  File \"d:\\21_github\\jsp-framework\\jsp\\solver\\pulp.py\", line 55, in do_solve\n",
      "    raise JSPException('No feasible solution found.')\n",
      "jsp.common.exception.JSPException: No feasible solution found.\n",
      "[2024-03-29 22:29:29 Runner_5] Failed to solve \"ft10\" with \"pulp\" in 305.200000 sec.\n",
      "[2024-03-29 22:29:29 MainThread] \n",
      "+----+---------+------------------------+---------------+---------+----------+---------+-------+\n",
      "| ID | Problem |         Solver         | job x machine | Optimum | Solution | Error % |  Time |\n",
      "+----+---------+------------------------+---------------+---------+----------+---------+-------+\n",
      "| 1  |   ft06  | PriorityDispatchSolver |     6 x 6     |    55   |   60.0   |   9.1   |  0.0  |\n",
      "| 2  |   ft06  |          pulp          |     6 x 6     |    55   |   55.0   |   0.0   |  7.6  |\n",
      "| 3  |   la01  | PriorityDispatchSolver |     10 x 5    |   666   |  666.0   |   0.0   |  0.0  |\n",
      "| 4  |   la01  |          pulp          |     10 x 5    |   666   |  666.0   |   0.0   | 112.1 |\n",
      "| 5  |   ft10  | PriorityDispatchSolver |    10 x 10    |   930   |  1082.0  |   16.3  |  0.0  |\n",
      "| 6  |   ft10  |          pulp          |    10 x 10    |   930   | unsolved |   n.a.  | 305.2 |\n",
      "| 7  |  swv01  | PriorityDispatchSolver |    20 x 10    |   1407  |  1839.0  |   30.7  |  0.1  |\n",
      "| 8  |  swv01  |          pulp          |    20 x 10    |   1407  | unsolved |   n.a.  | 304.9 |\n",
      "| 9  |   la38  | PriorityDispatchSolver |    15 x 15    |   1196  |  1387.0  |   16.0  |  0.2  |\n",
      "| 10 |   la38  |          pulp          |    15 x 15    |   1196  | unsolved |   n.a.  | 304.8 |\n",
      "+----+---------+------------------------+---------------+---------+----------+---------+-------+\n"
     ]
    }
   ],
   "source": [
    "import logging\n",
    "from jsp import (JSProblem, JSSolution, BenchMark)\n",
    "from jsp.solver import (GoogleORCPSolver, PriorityDispatchSolver, PuLPSolver)\n",
    "\n",
    "\n",
    "def print_intermediate_solution(solution:JSSolution):\n",
    "    '''User callback.'''\n",
    "    logging.info('Makespan: %f', solution.makespan)\n",
    "\n",
    "\n",
    "\n",
    "# ----------------------------------------\n",
    "# create problem from benchmark\n",
    "# ----------------------------------------\n",
    "names = ['ft06', 'la01', 'ft10', 'swv01', 'la38', 'ta24', 'ta31', 'swv12', 'ta24', 'ta42', 'ta54', 'ta68', 'ta69', 'ta70']\n",
    "# names = ['ft06', 'la01']\n",
    "names = ['ft06', 'la01', 'ft10', 'swv01', 'la38']\n",
    "problems = [JSProblem(benchmark=name) for name in names]\n",
    "\n",
    "# ----------------------------------------\n",
    "# test built-in solver\n",
    "# ----------------------------------------\n",
    "# googl or-tools\n",
    "s1 = GoogleORCPSolver(max_time=300)\n",
    "\n",
    "# priority dispatching\n",
    "s2 = PriorityDispatchSolver(rule='hh')\n",
    "\n",
    "# PuLP solver\n",
    "s3 = PuLPSolver(solver_name='SCIP', max_time=300)\n",
    "\n",
    "# ----------------------------------------\n",
    "# solve and result\n",
    "# ----------------------------------------\n",
    "benchmark = BenchMark(problems=problems, solvers=[s2,s3], num_threads=6)\n",
    "benchmark.run(show_info=True)"
   ]
  }
 ],
 "metadata": {
  "kernelspec": {
   "display_name": "Python 3",
   "language": "python",
   "name": "python3"
  },
  "language_info": {
   "codemirror_mode": {
    "name": "ipython",
    "version": 3
   },
   "file_extension": ".py",
   "mimetype": "text/x-python",
   "name": "python",
   "nbconvert_exporter": "python",
   "pygments_lexer": "ipython3",
   "version": "3.8.10"
  }
 },
 "nbformat": 4,
 "nbformat_minor": 2
}
